{
  "nbformat": 4,
  "nbformat_minor": 0,
  "metadata": {
    "colab": {
      "name": "EECS 504 Pset 3: Motion Magnification and Texture Synthesis.ipynb",
      "provenance": [],
      "collapsed_sections": [],
      "toc_visible": true
    },
    "kernelspec": {
      "name": "python3",
      "display_name": "Python 3"
    },
    "accelerator": "GPU"
  },
  "cells": [
    {
      "cell_type": "markdown",
      "metadata": {
        "id": "Uqh1kK1LeS2U",
        "colab_type": "text"
      },
      "source": [
        "#EECS 504 PS3: Motion Magnification and Texture Synthesis\n",
        "\n",
        "Please provide the following information \n",
        "(e.g. Andrew Owens, ahowens):\n",
        "\n",
        "[PoKang] [Chen], [pkchen]\n",
        "\n",
        "\n"
      ]
    },
    {
      "cell_type": "markdown",
      "metadata": {
        "id": "Wug5j9jHeeAx",
        "colab_type": "text"
      },
      "source": [
        "# Starting\n",
        "\n",
        "Run the following code to import the modules you'll need. After your finish the assignment, remember to run all cells and save the notebook to your local machine as a .ipynb file for Canvas submission."
      ]
    },
    {
      "cell_type": "code",
      "metadata": {
        "id": "loxyYKR1ZBsG",
        "colab_type": "code",
        "colab": {}
      },
      "source": [
        "%matplotlib inline\n",
        "import numpy as np\n",
        "from numpy.fft import fft2, ifft2, fftshift, ifftshift\n",
        "from numpy import angle, real\n",
        "from numpy import exp, abs, pi, sqrt\n",
        "import matplotlib.pyplot as plt\n",
        "import cv2\n",
        "import math\n",
        "\n",
        "import random\n",
        "import sys\n",
        "from scipy import ndimage\n",
        "from PIL import Image, ImageChops\n",
        "\n",
        "# cv2.imshow does not work in Colab, we use cv2_imshow instead\n",
        "from google.colab.patches import cv2_imshow"
      ],
      "execution_count": 0,
      "outputs": []
    },
    {
      "cell_type": "code",
      "metadata": {
        "id": "UAR6uykdw_wC",
        "colab_type": "code",
        "colab": {}
      },
      "source": [
        "%%capture\n",
        "#download some imagesshould take a second to run\n",
        "\n",
        "#for motion magnification problem\n",
        "! wget -O bill.avi \"https://drive.google.com/uc?export=download&id=1QR2dCShn-fYYEvcAQ8J4mnIo_ISqrjc7\"\n",
        "\n",
        "# for texture synthesis problem\n",
        "! wget -O texture.jpg \"https://drive.google.com/uc?export=download&id=11IlTZNLwfYsXQt2L1GbKdNqcj6JNkQik\"\n",
        "! wget -O rings.jpg \"https://drive.google.com/uc?export=download&id=1fYtmQe_a40BWg1OU178SFbcU4KRZuphn\"\n",
        "! wget -O jigsaw.jpg \"https://drive.google.com/uc?export=download&id=1SlYUw6vT9_PNP8XNhQfAu36AtPJ-PMpk\"\n",
        "\n",
        "# For own picture\n",
        "! wget -O brick_resize.jpg \"https://drive.google.com/uc?export=download&id=1JkPaJdc15oTSLYWdzqjlPUla36Mqjbyn\"\n",
        "! wget -O brick2_resize.jpg \"https://drive.google.com/uc?export=download&id=14Ht4WGY5w6_iZGrGemMcz58Qs0MNopk5\""
      ],
      "execution_count": 0,
      "outputs": []
    },
    {
      "cell_type": "markdown",
      "metadata": {
        "id": "RpV5DTNmaBDk",
        "colab_type": "text"
      },
      "source": [
        "## **Problem 3.1 (a)**"
      ]
    },
    {
      "cell_type": "code",
      "metadata": {
        "id": "ijhkAqcdZM3v",
        "colab_type": "code",
        "colab": {}
      },
      "source": [
        "def imshow(im, cmap='gray'):\n",
        "    # clip image from 0-1\n",
        "    im = np.clip(im, 0, 1)\n",
        "    plt.imshow(im, cmap=cmap)"
      ],
      "execution_count": 0,
      "outputs": []
    },
    {
      "cell_type": "code",
      "metadata": {
        "id": "Mo2f0-Y6ZQyf",
        "colab_type": "code",
        "colab": {}
      },
      "source": [
        "# 9x9 images\n",
        "im_size = 9\n",
        "\n",
        "# we would like to magnify the change between im1 and im2 by 4x\n",
        "magnification_factor = 4;\n",
        "\n",
        "# horizontal movement from (0, 0) to (0, 1)\n",
        "im1 = np.zeros([im_size, im_size])\n",
        "im2 = np.zeros([im_size, im_size])\n",
        "im1[0,0] = 1\n",
        "im2[0,1] = 1\n",
        "\n",
        "ff1 = fftshift(fft2(im1))\n",
        "ff2 = fftshift(fft2(im2))\n",
        "\n"
      ],
      "execution_count": 0,
      "outputs": []
    },
    {
      "cell_type": "markdown",
      "metadata": {
        "id": "USjr94uIXJ1Y",
        "colab_type": "text"
      },
      "source": [
        "### This is a quick tutorial for those who are not familiar with complex numbers in python."
      ]
    },
    {
      "cell_type": "code",
      "metadata": {
        "id": "KOZCXoSWZV2D",
        "colab_type": "code",
        "outputId": "c8b76b36-3924-4de9-fe6a-c237f2a2b861",
        "colab": {
          "base_uri": "https://localhost:8080/",
          "height": 102
        }
      },
      "source": [
        "# create a complex number\n",
        "x = 1 + 1j\n",
        "print(\"x =\", x)\n",
        "print(\"x.real\", x.real, \"x.imag\", x.imag)\n",
        "\n",
        "# magnitude and phase of complex number\n",
        "mag = abs(x)\n",
        "phase = angle(x)\n",
        "\n",
        "print(\"Magnitude\", mag)\n",
        "print(\"Phase\", phase)\n",
        "\n",
        "# Euler's formula\n",
        "y = mag * exp(phase * 1j)\n",
        "print(\"y =\", y)"
      ],
      "execution_count": 14,
      "outputs": [
        {
          "output_type": "stream",
          "text": [
            "x = (1+1j)\n",
            "x.real 1.0 x.imag 1.0\n",
            "Magnitude 1.4142135623730951\n",
            "Phase 0.7853981633974483\n",
            "y = (1.0000000000000002+1j)\n"
          ],
          "name": "stdout"
        }
      ]
    },
    {
      "cell_type": "code",
      "metadata": {
        "id": "uWusq5kFZSEw",
        "colab_type": "code",
        "colab": {}
      },
      "source": [
        "def magnify_change(im1, im2, magnification_factor):\n",
        "    \n",
        "    # find phase shift in frequency domain\n",
        "    im1_dft = fft2(im1)\n",
        "    im2_dft = fft2(im2)\n",
        "    # phase_shift = np.subtract(angle(im1_dft),angle(im2_dft))\n",
        "    phase_shift = angle(im2_dft) - angle(im1_dft)\n",
        "\n",
        "    # magnify the phase change in frequency domain \n",
        "    magnified_dft = phase_shift * magnification_factor\n",
        "    magnified = abs(im1_dft) * exp((angle(im1_dft) + magnified_dft) * 1j) # abs(one of the image) * exp((origin_angle + magphase) * 1j)\n",
        "    # what does the magnified phase change cause in image space?\n",
        "    magnified = ifft2(magnified).real  #For plotting\n",
        "    \n",
        "    return magnified"
      ],
      "execution_count": 0,
      "outputs": []
    },
    {
      "cell_type": "code",
      "metadata": {
        "id": "YulC7V6nZW2u",
        "colab_type": "code",
        "outputId": "6b4923b5-a003-4fb9-a823-4a1125a61666",
        "colab": {
          "base_uri": "https://localhost:8080/",
          "height": 261
        }
      },
      "source": [
        "# magnify position change\n",
        "magnified = magnify_change(im1, im2, magnification_factor);\n",
        "\n",
        "plt.figure(figsize=(12,36))\n",
        "plt.subplot(131)\n",
        "imshow(im1); plt.title('im1');\n",
        "\n",
        "plt.subplot(132)\n",
        "imshow(im2); plt.title('im2');\n",
        "\n",
        "plt.subplot(133)\n",
        "imshow(magnified); plt.title('magnified');"
      ],
      "execution_count": 16,
      "outputs": [
        {
          "output_type": "display_data",
          "data": {
            "image/png": "[encoded data removed]",
            "text/plain": [
              "<Figure size 864x2592 with 3 Axes>"
            ]
          },
          "metadata": {
            "tags": []
          }
        }
      ]
    },
    {
      "cell_type": "markdown",
      "metadata": {
        "id": "nQAF4he7Za_8",
        "colab_type": "text"
      },
      "source": [
        "## **Problem 3.1 (b)**\n"
      ]
    },
    {
      "cell_type": "code",
      "metadata": {
        "id": "1LPwI_TsZfDR",
        "colab_type": "code",
        "outputId": "b2b300ea-92ee-4123-fb97-46d3bde67981",
        "colab": {
          "base_uri": "https://localhost:8080/",
          "height": 261
        }
      },
      "source": [
        "# 9x9 images\n",
        "im_size = 9\n",
        "\n",
        "# we would like to magnify the change between im1 and im2 by 4x\n",
        "magnification_factor = 4\n",
        "\n",
        "# horizontal movement from (0, 0) to (0, 1)\n",
        "# additional vertical movement from (8, 8) to (7, 8)\n",
        "im1 = np.zeros([im_size, im_size])\n",
        "im2 = np.zeros([im_size, im_size])\n",
        "im1[0,0] = 1\n",
        "im2[0,1] = 1\n",
        "im1[8,8] = 1\n",
        "im2[7,8] = 1\n",
        "\n",
        "# magnify position change\n",
        "magnified = magnify_change(im1, im2, magnification_factor)\n",
        "\n",
        "\n",
        "plt.figure(figsize=(12,36))\n",
        "plt.subplot(131)\n",
        "imshow(im1); plt.title('im1');\n",
        "\n",
        "plt.subplot(132)\n",
        "imshow(im2); plt.title('im2');\n",
        "\n",
        "plt.subplot(133)\n",
        "imshow(magnified); plt.title('magnified');\n"
      ],
      "execution_count": 17,
      "outputs": [
        {
          "output_type": "display_data",
          "data": {
            "image/png": "[encoded data removed]",
            "text/plain": [
              "<Figure size 864x2592 with 3 Axes>"
            ]
          },
          "metadata": {
            "tags": []
          }
        }
      ]
    },
    {
      "cell_type": "markdown",
      "metadata": {
        "id": "KOr03SHzndsE",
        "colab_type": "text"
      },
      "source": [
        "The reason it is not properly magnified is that_____. "
      ]
    },
    {
      "cell_type": "markdown",
      "metadata": {
        "colab_type": "text",
        "id": "XyIt4H8MZnno"
      },
      "source": [
        "## **Problem 3.1 (c)**\n"
      ]
    },
    {
      "cell_type": "code",
      "metadata": {
        "id": "NomQMElTZYiq",
        "colab_type": "code",
        "outputId": "1e05d41c-b2c8-4067-9dea-a3f1a00d05d6",
        "colab": {
          "base_uri": "https://localhost:8080/",
          "height": 278
        }
      },
      "source": [
        "#The Gaussian mask we want you to create will be of the same size as the original image.\n",
        "#We will be sliding the center of the Gaussian distribution across the mask, from the left top to the bottom right. \n",
        "#By multiplying such a mask with the original image, we can filter local information for motion magnification.\n",
        "import scipy.stats as st\n",
        "# 9x9 images\n",
        "im_size = 9\n",
        "\n",
        "# we would like to magnify the change between im1 and im2 by 4x\n",
        "magnification_factor = 4\n",
        "\n",
        "# width of our Gaussian window\n",
        "sigma = 2\n",
        "\n",
        "def matlab_style_gauss2D(shape,sigma):\n",
        "    \"\"\"\n",
        "    2D gaussian mask - should give the same result as MATLAB's\n",
        "    fspecial('gaussian',[shape],[sigma])\n",
        "    \"\"\"\n",
        "    m,n = [(ss-1.)/2. for ss in shape]\n",
        "    y,x = np.ogrid[-m:m+1,-n:n+1]\n",
        "    h = np.exp( -(x*x + y*y) / (2.*sigma*sigma) )\n",
        "    h[ h < np.finfo(h.dtype).eps*h.max() ] = 0\n",
        "    sumh = h.sum()\n",
        "    if sumh != 0:\n",
        "        h /= sumh\n",
        "    return h\n",
        "def gkern(kernlen=21, nsig=3):\n",
        "    \"\"\"Returns a 2D Gaussian kernel.\"\"\"\n",
        "\n",
        "    x = np.linspace(-nsig, nsig, kernlen+1)\n",
        "    kern1d = np.diff(st.norm.cdf(x))\n",
        "    kern2d = np.outer(kern1d, kern1d)\n",
        "    return kern2d/kern2d.sum()\n",
        "\n",
        "# horizontal movement from (0, 0) to (0, 1)\n",
        "# additional vertical movement from (8, 8) to (7, 8)\n",
        "im1 = np.zeros([im_size, im_size])\n",
        "im2 = np.zeros([im_size, im_size])\n",
        "im1[0,0] = 1\n",
        "im2[0,1] = 1\n",
        "im1[8,8] = 1\n",
        "im2[7,8] = 1\n",
        "\n",
        "# we will magnify windows of the image and aggregate the results\n",
        "magnified = np.zeros([im_size, im_size])\n",
        "\n",
        "# meshgrid for computing Gaussian window\n",
        "X, Y = np.meshgrid(np.arange(im_size), np.arange(im_size))\n",
        "\n",
        "for y in range(0, im_size, 2*sigma):\n",
        "    for x in range(0, im_size, 2*sigma):\n",
        "        # gaussian_mask = matlab_style_gauss2D((im_size,im_size) , sigma)\n",
        "        gaussian_mask = np.exp(-0.5 * (np.square(X - x) + np.square(Y - y)) / np.square(sigma))\n",
        "        window_magnified = magnify_change(im1 * gaussian_mask, im2 * gaussian_mask, magnification_factor) #  magnified the difference and output image\n",
        "        magnified = magnified + window_magnified\n",
        "      \n",
        "        \n",
        "plt.figure(figsize=(12,36))\n",
        "plt.subplot(131)\n",
        "imshow(im1); plt.title('im1');\n",
        "\n",
        "plt.subplot(132)\n",
        "imshow(im2); plt.title('im2');\n",
        "\n",
        "plt.subplot(133)\n",
        "imshow(magnified); plt.title('magnified')"
      ],
      "execution_count": 18,
      "outputs": [
        {
          "output_type": "execute_result",
          "data": {
            "text/plain": [
              "Text(0.5, 1.0, 'magnified')"
            ]
          },
          "metadata": {
            "tags": []
          },
          "execution_count": 18
        },
        {
          "output_type": "display_data",
          "data": {
            "image/png": "[encoded data removed]",
            "text/plain": [
              "<Figure size 864x2592 with 3 Axes>"
            ]
          },
          "metadata": {
            "tags": []
          }
        }
      ]
    },
    {
      "cell_type": "markdown",
      "metadata": {
        "id": "9Kzn223xZsN3",
        "colab_type": "text"
      },
      "source": [
        "## **Problem 3.1 (d) - Motion Magnification**\n"
      ]
    },
    {
      "cell_type": "code",
      "metadata": {
        "id": "0l47cx31ZvpO",
        "colab_type": "code",
        "outputId": "a582aec8-e243-4bb3-b633-cd1575408bd8",
        "colab": {
          "base_uri": "https://localhost:8080/",
          "height": 34
        }
      },
      "source": [
        "import numpy as np\n",
        "import cv2\n",
        "\n",
        "cap = cv2.VideoCapture('bill.avi')\n",
        "\n",
        "# list of video frames\n",
        "frames = []\n",
        "\n",
        "while(cap.isOpened()):\n",
        "    # read frame from the video\n",
        "    ret, frame = cap.read()\n",
        "    \n",
        "    if ret is False:\n",
        "        break\n",
        "\n",
        "    frame = cv2.resize(frame, (200, 200), interpolation=cv2.INTER_CUBIC)\n",
        "    frames.append(frame)\n",
        "\n",
        "cap.release()\n",
        "\n",
        "# scale frame to 0-1\n",
        "frames = np.array(frames) / 255.\n",
        "print(\"frames size:\", frames.shape, \"# (nb_frames, height, width, channel)\")\n",
        "\n",
        "# get height, width\n",
        "num_frames = frames.shape[0]\n",
        "height = frames.shape[1]\n",
        "width = frames.shape[2]"
      ],
      "execution_count": 19,
      "outputs": [
        {
          "output_type": "stream",
          "text": [
            "frames size: (60, 200, 200, 3) # (nb_frames, height, width, channel)\n"
          ],
          "name": "stdout"
        }
      ]
    },
    {
      "cell_type": "code",
      "metadata": {
        "id": "RbB0d5fDZ1DQ",
        "colab_type": "code",
        "outputId": "5a706b2e-4eef-4498-c4b8-43ccd4e54666",
        "colab": {
          "base_uri": "https://localhost:8080/",
          "height": 289
        }
      },
      "source": [
        "# 10x magnification of motion\n",
        "magnification_factor = 10\n",
        "\n",
        "# width of Gaussian window\n",
        "sigma = 26\n",
        "\n",
        "# alpha for moving average\n",
        "alpha = 0.5\n",
        "\n",
        "# we will magnify windows of the video and aggregate the results\n",
        "magnified = np.zeros_like(frames)\n",
        "\n",
        "# meshgrid for computing Gaussian window\n",
        "X, Y = np.meshgrid(np.arange(width), np.arange(height))\n",
        "\n",
        "# iterate over windows of the frames\n",
        "x_range = list(range(0, width, 2*sigma))\n",
        "y_range = list(range(0, height, 2*sigma))\n",
        "num_windows = len(x_range) * len(y_range)\n",
        "window_index = 1\n",
        "\n",
        "for y in y_range:\n",
        "    for x in x_range:\n",
        "        for channel_index in range(3): # RGB channels\n",
        "            for frame_index in range(num_frames):\n",
        "                \n",
        "                # create windowed frames\n",
        "                gaussian_mask = np.exp(-0.5 * (np.square(X - x) + np.square(Y - y)) / np.square(sigma)) #TODO5\n",
        "                windowed_frames = gaussian_mask * frames[frame_index,:,:,channel_index]\n",
        "            \n",
        "                # initialize moving average of phase for current window/channel\n",
        "                if frame_index == 0:\n",
        "                    window_average_phase = angle(fft2(windowed_frames))\n",
        "                \n",
        "                window_dft = fft2(windowed_frames)\n",
        "                \n",
        "                # compute phase shift and constrain to [-pi, pi] since\n",
        "                # angle space wraps around\n",
        "                window_phase_shift = angle(window_dft) - window_average_phase\n",
        "                window_phase_shift[window_phase_shift > pi] = window_phase_shift[window_phase_shift > pi] - 2 * pi\n",
        "                window_phase_shift[window_phase_shift < -pi] = window_phase_shift[window_phase_shift < -pi] + 2 * pi\n",
        "                \n",
        "                # magnify phase shift\n",
        "                window_magnified_phase = window_phase_shift * magnification_factor #TODO6\n",
        "\n",
        "                # go back to image space\n",
        "                window_magnified_dft = window_dft * exp(window_magnified_phase * 1j)#TODO7 not sure\n",
        "                window_magnified = abs(ifft2(window_magnified_dft))\n",
        "                \n",
        "                # update moving average\n",
        "                window_phase_unwrapped = window_average_phase + window_phase_shift\n",
        "                window_average_phase = alpha * window_average_phase + (1 - alpha) * window_phase_unwrapped\n",
        "                \n",
        "                # aggregate\n",
        "                magnified[frame_index,:,:,channel_index] = magnified[frame_index,:,:,channel_index] + window_magnified\n",
        "        \n",
        "        # print progress\n",
        "        print('{}/{}'.format(window_index, num_windows))\n",
        "        window_index += 1"
      ],
      "execution_count": 20,
      "outputs": [
        {
          "output_type": "stream",
          "text": [
            "1/16\n",
            "2/16\n",
            "3/16\n",
            "4/16\n",
            "5/16\n",
            "6/16\n",
            "7/16\n",
            "8/16\n",
            "9/16\n",
            "10/16\n",
            "11/16\n",
            "12/16\n",
            "13/16\n",
            "14/16\n",
            "15/16\n",
            "16/16\n"
          ],
          "name": "stdout"
        }
      ]
    },
    {
      "cell_type": "code",
      "metadata": {
        "id": "T0LAo9tGZ3IL",
        "colab_type": "code",
        "colab": {}
      },
      "source": [
        "outputs = magnified / np.max(magnified)\n",
        "for channel_index in range(3):\n",
        "    original_frame = frames[0,:,:,channel_index]\n",
        "    magnified_frame = outputs[0,:,:,channel_index]\n",
        "    scale = np.std(original_frame[:]) / np.std(magnified_frame[:])\n",
        "    original_mean = np.mean(original_frame[:])\n",
        "    magnified_mean = np.mean(magnified_frame[:])\n",
        "    outputs[:,:,:,channel_index] = magnified_mean + scale * (outputs[:,:,:,channel_index] - magnified_mean)\n",
        "\n",
        "outputs = np.clip(outputs, 0, 1)"
      ],
      "execution_count": 0,
      "outputs": []
    },
    {
      "cell_type": "code",
      "metadata": {
        "id": "eGwdxkFrZ4K9",
        "colab_type": "code",
        "colab": {}
      },
      "source": [
        "# create output video\n",
        "fourcc = cv2.VideoWriter_fourcc('M','J','P','G')\n",
        "# fourcc = cv2.VideoWriter_fourcc(*'XVID')\n",
        "out = cv2.VideoWriter('bill_magnified.avi',fourcc, 30.0, (height, width))\n",
        "\n",
        "for i in range(frames.shape[0]):\n",
        "    # scale the frame back to 0-255\n",
        "    frame = (np.clip(outputs[i], 0, 1) * 255).astype(np.uint8)\n",
        "    \n",
        "    # write frame to output video\n",
        "    out.write(frame)\n",
        "\n",
        "out.release()"
      ],
      "execution_count": 0,
      "outputs": []
    },
    {
      "cell_type": "code",
      "metadata": {
        "id": "8QgaekEWZ6lE",
        "colab_type": "code",
        "colab": {}
      },
      "source": [
        "# Only for colab downloading videos\n",
        "try:\n",
        "    from google.colab import files\n",
        "    files.download('bill_magnified.avi')\n",
        "except:\n",
        "    print(\"Only for google colab\")"
      ],
      "execution_count": 0,
      "outputs": []
    },
    {
      "cell_type": "markdown",
      "metadata": {
        "id": "NPrGFZZ-aGcx",
        "colab_type": "text"
      },
      "source": [
        "## **Problem 3.2 - Texture Synthesis**\n",
        "\n",
        "Note that the functions provided below are templates. Feel free to add your own helper functions as needed.\n",
        "\n",
        "You can reference the pseudocode provided here:  https://people.eecs.berkeley.edu/~efros/research/NPS/alg.html."
      ]
    },
    {
      "cell_type": "markdown",
      "metadata": {
        "id": "DxMJ7MolbtZa",
        "colab_type": "text"
      },
      "source": [
        "### Find matches function"
      ]
    },
    {
      "cell_type": "code",
      "metadata": {
        "id": "aay0xFu3b0rS",
        "colab_type": "code",
        "colab": {}
      },
      "source": [
        "import scipy.ndimage\n",
        "\n",
        "def find_matches(template, sample, gauss_mask): \n",
        "    # print(template.shape[0])\n",
        "    # print(template.shape[1])\n",
        "\n",
        "#template = window of size w*w from the target image\n",
        "#sample = source texture image\n",
        "#gauss_mask = 2D Gaussian mask\n",
        "    ### parameters, as used by Efros and Leung\n",
        "    epsilon = 0.1 #ErrThreshold\n",
        "    delta = 0.3 #MaxErrThreshold\n",
        "    w = template.shape[0]\n",
        "    #### TODO:\n",
        "    # valid_mask is a square mask of width window_size that is 1 where template is filled\n",
        "    valid_mask = np.zeros((w , w))\n",
        "    for i in range(w):\n",
        "      for j in range(w):\n",
        "        for k in range(3):\n",
        "          if (template[i , j , k] != 0 ):\n",
        "            valid_mask[ i , j] = 1\n",
        "\n",
        "    mask = np.multiply( gauss_mask , valid_mask )       #elementwise multiplication\n",
        "\n",
        "    #### TODO:\n",
        "    # vectorized code that calculates SSD(template, sample)*mask for all patches\n",
        "    SSD_size = sample.shape[0] - w // 2 *2\n",
        "    SSD = np.zeros((SSD_size , SSD_size))\n",
        "    for i in range(SSD_size):\n",
        "      for j in range(SSD_size):\n",
        "        dis = np.sum( np.square( mask[..., np.newaxis] * (template - sample[i : i + w  , j : j + w , :])  ) )\n",
        "        SSD[i,j] = dis\n",
        "    \n",
        "    SSD = SSD / np.sum(SSD) #normalized SSD\n",
        "    best_matches = []\n",
        "    for i in range(SSD.shape[0]):\n",
        "      for j in range(SSD.shape[0]):\n",
        "        if SSD[i , j] <= np.min(SSD) * (1 + epsilon):\n",
        "          best_matches.append((i + w//2 ,j + w//2))\n",
        "    # print(best_matches)\n",
        "    return best_matches #list of candidate matches in the source texture along with their corresponding SSD errors."
      ],
      "execution_count": 0,
      "outputs": []
    },
    {
      "cell_type": "markdown",
      "metadata": {
        "id": "dL_bp42ob1AT",
        "colab_type": "text"
      },
      "source": [
        "### Synthesize texture function"
      ]
    },
    {
      "cell_type": "code",
      "metadata": {
        "id": "EOOIwV57b-eT",
        "colab_type": "code",
        "colab": {}
      },
      "source": [
        "def dnorm(x, mu, sd):\n",
        "    return 1 / (np.sqrt(2 * np.pi) * sd) * np.e ** (-np.power((x - mu) / sd, 2) / 2)\n",
        "def gaussian_kernel(size, sigma=2, verbose=False):\n",
        " \n",
        "    kernel_1D = np.linspace(-(size // 2), size // 2, size)\n",
        "    for i in range(size):\n",
        "        kernel_1D[i] = dnorm(kernel_1D[i], 0, sigma)\n",
        "    kernel_2D = np.outer(kernel_1D.T, kernel_1D.T)\n",
        " \n",
        "    kernel_2D *= 1.0 / kernel_2D.max()\n",
        " \n",
        "    if verbose:\n",
        "        plt.imshow(kernel_2D, interpolation='none',cmap='gray')\n",
        "        plt.title(\"Image\")\n",
        "        plt.show()\n",
        "    \n",
        "    return kernel_2D/kernel_2D.sum()\n",
        "kernel = gaussian_kernel(11, sigma=2, verbose=False) #size of 11,2\n",
        "\n",
        "def synth_texture(sample, window_size, out_size):\n",
        "    # normalize pixel intensity\n",
        "    sample = sample.astype(np.float64)\n",
        "    sample = sample / 255.0\n",
        "    seed_size = 3 \n",
        "    [sheight, swidth, channels] = sample.shape # 34 * 34 * 3\n",
        "    synth_img = np.zeros((*out_size, channels))\n",
        "\n",
        "    # initialization: pick a random 3x3 patch from sample and place in the middle of the synthesized image\n",
        "    rh = round(seed_size + np.random.uniform(0,1) * (sheight - 2 * seed_size))\n",
        "    rw = round(seed_size + np.random.uniform(0,1) * (swidth - 2 * seed_size))\n",
        "    center = [round(.5 * x) for x in out_size] # center\n",
        "    synth_img[center[0]: center[0] + seed_size, center[1]: center[1] + seed_size ,:] = sample[rh: rh + seed_size , rw: rw + seed_size,:] #Fill in the initialization patch\n",
        "\n",
        "    # bitmap indicating filled pixels, the seed patch is initially filled\n",
        "    filled = np.zeros(out_size)\n",
        "    filled[center[0]: center[0] + seed_size , center[1]: center[1] + seed_size] = 1 #Fill in the location where filled map is occupied\n",
        "    num_filled = int(np.sum(filled)) # number of place that has been filled\n",
        "    n_pixels = out_size[0] * out_size[1] #10000\n",
        "\n",
        "    #Padding\n",
        "    P = window_size // 2\n",
        "    synth_img = cv2.copyMakeBorder(synth_img,P,P,P,P,cv2.BORDER_CONSTANT,0)\n",
        "\n",
        "    ######### TODO\n",
        "    # intialize 2D zero-mean gaussian w/ variance = (window_size / 6.4)\n",
        "    # X, Y = np.meshgrid(np.arange(swidth), np.arange(sheight))\n",
        "    sigma = window_size / 6.4\n",
        "    # G = np.ones((window_size,window_size))\n",
        "    # gaussian_mask = scipy.ndimage.gaussian_filter(G,sigma)\n",
        "    gaussian_mask = gaussian_kernel(window_size, sigma=2, verbose=False)\n",
        "    # print(gaussian_mask)\n",
        "    # gaussian_mask = np.exp(-0.5 * (np.square(X) + np.square(Y)) / np.square(sigma))\n",
        "\n",
        "    # main loop: repeat until all pixels are filled\n",
        "    next_p = n_pixels / 10  #10000/10 = 1000\n",
        "    while(num_filled < n_pixels):\n",
        "        # report progress\n",
        "        if(num_filled > next_p):\n",
        "            print(round(100 * num_filled / n_pixels), '% complete')\n",
        "            next_p += n_pixels / 10\n",
        "\n",
        "        # TODO:\n",
        "        # get list of unfilled pixels as (x, y) coordinates\n",
        "        # hint: use dilation and masking to efficiently find unfilled neighboring pixels\n",
        "        struct2 = ndimage.generate_binary_structure(2, 2)\n",
        "        dilation = ndimage.binary_dilation(filled, structure = struct2).astype(filled.dtype) - filled\n",
        "        pixel_list = [(i,j) for i in range(dilation.shape[0]) for j in range(dilation.shape[1]) if dilation[i,j] == 1 ]\n",
        "        # print(pixel_list)\n",
        "        # TODO:\n",
        "        # (optional, but recommended) randomly permute and sort list of pixels decreasing number of filled neighbor pixels\n",
        "\n",
        "        # TODO:\n",
        "        # iterate over the list of pixels\n",
        "        template = np.zeros((window_size, window_size, window_size))\n",
        "        for x, y in pixel_list: #x,y is the position in synth_img where it's going to place the patch\n",
        "          # TODO:\n",
        "          # place window with center as (x, y) and use as template\n",
        "          p = window_size //2\n",
        "          template = synth_img[(x+p) - window_size //2 : (x+p) + window_size//2 + 1 , (y+p) - window_size //2 : (y+p) + window_size//2 + 1 , :]\n",
        "          # TODO:\n",
        "          # find the best matching windows from sample image\n",
        "          # randomly sample one from best matches\n",
        "          Bestmatches = find_matches(template , sample, gaussian_mask) #x,y coordinate of small value in SSD with range s - w//2 * 2\n",
        "          Bestmatch = Bestmatches[np.random.randint(0,np.abs(len(Bestmatches)))]\n",
        "          # Bestmatch = Bestmatches[0] ####\n",
        "          synth_img[x + p , y + p, :] = sample[Bestmatch[0], Bestmatch[1] , :] #### + ppppp\n",
        "          filled[x,y] = 1\n",
        "          # if (BestMatch.error < MaxErrThreshold) then\n",
        "          #   Pixel.value = BestMatch.value\n",
        "        num_filled = int(np.sum(filled)) \n",
        "    p = window_size //2 \n",
        "    synth_img = synth_img * 255\n",
        "    synth_img = synth_img[p : synth_img.shape[0] - p, p : synth_img.shape[0] - p]\n",
        "    return synth_img"
      ],
      "execution_count": 0,
      "outputs": []
    },
    {
      "cell_type": "code",
      "metadata": {
        "id": "3GikklvceXVH",
        "colab_type": "code",
        "outputId": "b6833abf-1dce-4a94-b30d-15d0beea84af",
        "colab": {
          "base_uri": "https://localhost:8080/",
          "height": 136
        }
      },
      "source": [
        "import numpy\n",
        "\n",
        "array = numpy.array([[1 ,1, 0], [0, 1, 0], [0, 0, 0]]) \n",
        "\n",
        "print(\"Printing 2D Array\")\n",
        "print(array)\n",
        "\n",
        "pixel_list = [(i,j) for i in range(array.shape[0]) for j in range(array.shape[1]) if array[i,j] == 1 ]\n",
        "# array = cv2.copyMakeBorder(array,3,3,3,3,cv2.BORDER_CONSTANT,0)\n",
        "print(\"pixel list\",pixel_list)\n",
        "\n",
        "print(\"Choose random row from 2D array\")\n",
        "randomRow = numpy.random.randint(3, size=1)\n",
        "print(array[randomRow,:])\n"
      ],
      "execution_count": 8,
      "outputs": [
        {
          "output_type": "stream",
          "text": [
            "Printing 2D Array\n",
            "[[1 1 0]\n",
            " [0 1 0]\n",
            " [0 0 0]]\n",
            "pixel list [(0, 0), (0, 1), (1, 1)]\n",
            "Choose random row from 2D array\n",
            "[[0 1 0]]\n"
          ],
          "name": "stdout"
        }
      ]
    },
    {
      "cell_type": "markdown",
      "metadata": {
        "id": "ar9WGk44b_Aw",
        "colab_type": "text"
      },
      "source": [
        "\n",
        "### Main function\n",
        "\n",
        "Run the texture synthesis algorithm to generate texture of new shape. "
      ]
    },
    {
      "cell_type": "code",
      "metadata": {
        "id": "cE0a6bhJcBbp",
        "colab_type": "code",
        "outputId": "07bb8453-8ee4-4bea-d832-dfbbe3471fd2",
        "colab": {
          "base_uri": "https://localhost:8080/",
          "height": 1000
        }
      },
      "source": [
        "# np.seterr(divide='ignore', invalid='ignore') ##error for dividing errors\n",
        "# Texture synthesis on rings\n",
        "source = cv2.imread('rings.jpg')\n",
        "# print(source.shape) #34 , 34, 3\n",
        "window_sizes = [5, 7, 13] \n",
        "out_size = [100, 100]\n",
        "\n",
        "print('Source Image')\n",
        "cv2_imshow(source)\n",
        "\n",
        "for w in window_sizes:\n",
        "  target = synth_texture(source, w, out_size)\n",
        "  print('Target Image')\n",
        "  cv2_imshow(target)\n",
        "\n",
        "w = 5\n",
        "# Texture synthesis on colored image\n",
        "source = cv2.imread('texture.jpg')\n",
        "print('Source Image')\n",
        "cv2_imshow(source)\n",
        "target = synth_texture(source, w, out_size)\n",
        "print('Target Image')\n",
        "cv2_imshow(target)\n",
        "\n",
        "# Don't need to submit this one\n",
        "source = cv2.imread('jigsaw.jpg')\n",
        "print('Source Image')\n",
        "cv2_imshow(source)\n",
        "target = synth_texture(source, w, out_size)\n",
        "print('Target Image')\n",
        "cv2_imshow(target)"
      ],
      "execution_count": 0,
      "outputs": [
        {
          "output_type": "stream",
          "text": [
            "Source Image\n"
          ],
          "name": "stdout"
        },
        {
          "output_type": "display_data",
          "data": {
            "image/png": "[encoded data removed]",
            "text/plain": [
              "<PIL.Image.Image image mode=RGB size=34x34 at 0x7F9E014B98D0>"
            ]
          },
          "metadata": {
            "tags": []
          }
        },
        {
          "output_type": "stream",
          "text": [
            "11 % complete\n",
            "20 % complete\n",
            "30 % complete\n",
            "42 % complete\n",
            "50 % complete\n",
            "62 % complete\n",
            "72 % complete\n",
            "83 % complete\n",
            "90 % complete\n",
            "Target Image\n"
          ],
          "name": "stdout"
        },
        {
          "output_type": "display_data",
          "data": {
            "image/png": "[encoded data removed]",
            "text/plain": [
              "<PIL.Image.Image image mode=RGB size=100x100 at 0x7F9E014B9B70>"
            ]
          },
          "metadata": {
            "tags": []
          }
        },
        {
          "output_type": "stream",
          "text": [
            "11 % complete\n",
            "20 % complete\n",
            "30 % complete\n",
            "42 % complete\n",
            "50 % complete\n",
            "62 % complete\n",
            "72 % complete\n",
            "83 % complete\n",
            "90 % complete\n",
            "Target Image\n"
          ],
          "name": "stdout"
        },
        {
          "output_type": "display_data",
          "data": {
            "image/png": "[encoded data removed]",
            "text/plain": [
              "<PIL.Image.Image image mode=RGB size=100x100 at 0x7F9E014B9710>"
            ]
          },
          "metadata": {
            "tags": []
          }
        },
        {
          "output_type": "stream",
          "text": [
            "11 % complete\n",
            "20 % complete\n",
            "30 % complete\n",
            "42 % complete\n",
            "50 % complete\n",
            "62 % complete\n",
            "72 % complete\n",
            "83 % complete\n",
            "90 % complete\n",
            "Target Image\n"
          ],
          "name": "stdout"
        },
        {
          "output_type": "display_data",
          "data": {
            "image/png": "[encoded data removed]",
            "text/plain": [
              "<PIL.Image.Image image mode=RGB size=100x100 at 0x7F9E014B9630>"
            ]
          },
          "metadata": {
            "tags": []
          }
        },
        {
          "output_type": "stream",
          "text": [
            "Source Image\n"
          ],
          "name": "stdout"
        },
        {
          "output_type": "display_data",
          "data": {
            "image/png": "[encoded data removed]",
            "text/plain": [
              "<PIL.Image.Image image mode=RGB size=68x68 at 0x7F9E014B9710>"
            ]
          },
          "metadata": {
            "tags": []
          }
        },
        {
          "output_type": "stream",
          "text": [
            "11 % complete\n",
            "20 % complete\n",
            "30 % complete\n",
            "42 % complete\n",
            "50 % complete\n",
            "62 % complete\n",
            "72 % complete\n",
            "83 % complete\n",
            "90 % complete\n",
            "Target Image\n"
          ],
          "name": "stdout"
        },
        {
          "output_type": "display_data",
          "data": {
            "image/png": "[encoded data removed]",
            "text/plain": [
              "<PIL.Image.Image image mode=RGB size=100x100 at 0x7F9E014B9710>"
            ]
          },
          "metadata": {
            "tags": []
          }
        },
        {
          "output_type": "stream",
          "text": [
            "Source Image\n"
          ],
          "name": "stdout"
        },
        {
          "output_type": "display_data",
          "data": {
            "image/png": "[encoded data removed]",
            "text/plain": [
              "<PIL.Image.Image image mode=RGB size=136x136 at 0x7F9E014B9B70>"
            ]
          },
          "metadata": {
            "tags": []
          }
        },
        {
          "output_type": "stream",
          "text": [
            "11 % complete\n",
            "20 % complete\n",
            "30 % complete\n",
            "42 % complete\n"
          ],
          "name": "stdout"
        }
      ]
    },
    {
      "cell_type": "markdown",
      "metadata": {
        "id": "g9P69jZCmFL-",
        "colab_type": "text"
      },
      "source": [
        "Q:\n",
        "Explain the algorithm’s performance with respect to window size. For a given window size, if you re-run the algorithm with the same starting seed do you get the same result? Why or why not? Is this true for all window sizes? Also run your implementation using real color image texture.jpg and see how window size affects the performance. \n",
        "\n",
        "A:\n",
        "As the window size is getting bigger, it takes more time to run. The reason is that it takes more time to go through the block. Also, same starting seed wouldn’t always result in same result. Because there’s random pick within. Also if  the window is bigger, it'll take more time for that but the performance will be better. "
      ]
    },
    {
      "cell_type": "code",
      "metadata": {
        "id": "t7KDjiBZgcbB",
        "colab_type": "code",
        "colab": {
          "base_uri": "https://localhost:8080/",
          "height": 344
        },
        "outputId": "64c18c91-d192-4fd2-d5f4-6efe3a7d2685"
      },
      "source": [
        "# Own picture\n",
        "source = cv2.imread('brick2_resize.jpg')\n",
        "w = 11\n",
        "print('Source Image')\n",
        "cv2_imshow(source)\n",
        "target = synth_texture(source, w, out_size)\n",
        "print('Target Image')\n",
        "cv2_imshow(target)"
      ],
      "execution_count": 44,
      "outputs": [
        {
          "output_type": "stream",
          "text": [
            "Source Image\n"
          ],
          "name": "stdout"
        },
        {
          "output_type": "display_data",
          "data": {
            "image/png": "[encoded data removed]",
            "text/plain": [
              "<PIL.Image.Image image mode=RGB size=40x40 at 0x7F9E0A6CC9B0>"
            ]
          },
          "metadata": {
            "tags": []
          }
        },
        {
          "output_type": "stream",
          "text": [
            "11 % complete\n",
            "20 % complete\n",
            "30 % complete\n",
            "42 % complete\n",
            "50 % complete\n",
            "62 % complete\n",
            "72 % complete\n",
            "83 % complete\n",
            "90 % complete\n",
            "Target Image\n"
          ],
          "name": "stdout"
        },
        {
          "output_type": "display_data",
          "data": {
            "image/png": "[encoded data removed]",
            "text/plain": [
              "<PIL.Image.Image image mode=RGB size=100x100 at 0x7F9E0A6CC9B0>"
            ]
          },
          "metadata": {
            "tags": []
          }
        }
      ]
    }
  ]
}